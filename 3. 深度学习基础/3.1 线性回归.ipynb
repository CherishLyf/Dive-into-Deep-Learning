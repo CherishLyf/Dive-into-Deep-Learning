{
 "metadata": {
  "language_info": {
   "codemirror_mode": {
    "name": "ipython",
    "version": 3
   },
   "file_extension": ".py",
   "mimetype": "text/x-python",
   "name": "python",
   "nbconvert_exporter": "python",
   "pygments_lexer": "ipython3",
   "version": "3.8.5"
  },
  "orig_nbformat": 2,
  "kernelspec": {
   "name": "python385jvsc74a57bd079348f91ea695bd81548cae96f1c95c65b4495c24fade6630ca4ab5031074804",
   "display_name": "Python 3.8.5 64-bit ('base': conda)"
  }
 },
 "nbformat": 4,
 "nbformat_minor": 2,
 "cells": [
  {
   "source": [
    "# 线性回归\n",
    "\n",
    "线性回归输出是连续值，适用于回归问题。"
   ],
   "cell_type": "markdown",
   "metadata": {}
  },
  {
   "source": [
    "## 3.1.2 线性回归的表示方法\n",
    "\n",
    "### 3.1.2.1 神经网络图\n",
    "\n",
    "在神经网络中，我们可以使用神经网络图来表示模型结构。\n",
    "\n",
    "![神经网络图](http://tangshusen.me/Dive-into-DL-PyTorch/img/chapter03/3.1_linreg.svg)\n",
    "\n",
    "\n",
    "输入个数也叫特征数或特征向量维度，如图所示神经网络的层数是1，所以线性回归是一个单层神经元。输出层中神经元和输入层中各个输入完全链接，这里输出层又叫全链接层或者稠密层。"
   ],
   "cell_type": "markdown",
   "metadata": {}
  },
  {
   "source": [
    "### 3.1.2.2 矢量计算表达式"
   ],
   "cell_type": "markdown",
   "metadata": {}
  },
  {
   "cell_type": "code",
   "execution_count": 1,
   "metadata": {},
   "outputs": [],
   "source": [
    "# 向量相加\n",
    "\n",
    "import torch\n",
    "\n",
    "a = torch.ones(1000)\n",
    "b = torch.ones(1000)\n",
    "\n",
    "d = a + b"
   ]
  },
  {
   "cell_type": "code",
   "execution_count": null,
   "metadata": {},
   "outputs": [],
   "source": []
  }
 ]
}